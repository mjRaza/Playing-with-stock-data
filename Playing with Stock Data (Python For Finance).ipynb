{
 "cells": [
  {
   "cell_type": "code",
   "execution_count": 55,
   "metadata": {},
   "outputs": [],
   "source": [
    "import os\n",
    "import pandas as pd\n",
    "import matplotlib.pyplot as plt"
   ]
  },
  {
   "cell_type": "code",
   "execution_count": 56,
   "metadata": {},
   "outputs": [],
   "source": [
    "#To Bring Data from folders into code\n",
    "\n",
    "def get_data(symbols, dates):\n",
    "    df = pd.DataFrame(index=dates)\n",
    "    for symbol in symbols:\n",
    "      \n",
    "        df_temp=pd.read_csv(\"./data/{}.csv\".format(symbol),index_col=\"Date\", parse_dates=True, usecols=[\"Date\",\"Adj Close\"],na_values=[\"nan\"])\n",
    "        df_temp=df_temp.rename(columns={'Adj Close':symbol})\n",
    "        df=df.join(df_temp)\n",
    "        if(symbol==\"SPY\"):\n",
    "            df.dropna(subset=[\"SPY\"])\n",
    "    return df\n"
   ]
  },
  {
   "cell_type": "code",
   "execution_count": 57,
   "metadata": {},
   "outputs": [],
   "source": [
    "dates = pd.date_range('2010-01-01', '2010-12-31')\n",
    "#File Names\n",
    "symbols = ['SPY','GOOG', 'IBM', 'GLD']\n",
    "\n",
    "df=get_data(symbols, dates)\n",
    "#Droping NaN\n",
    "df=df.dropna(subset=[\"SPY\"])"
   ]
  },
  {
   "cell_type": "code",
   "execution_count": 58,
   "metadata": {},
   "outputs": [
    {
     "data": {
      "text/html": [
       "<div>\n",
       "<style scoped>\n",
       "    .dataframe tbody tr th:only-of-type {\n",
       "        vertical-align: middle;\n",
       "    }\n",
       "\n",
       "    .dataframe tbody tr th {\n",
       "        vertical-align: top;\n",
       "    }\n",
       "\n",
       "    .dataframe thead th {\n",
       "        text-align: right;\n",
       "    }\n",
       "</style>\n",
       "<table border=\"1\" class=\"dataframe\">\n",
       "  <thead>\n",
       "    <tr style=\"text-align: right;\">\n",
       "      <th></th>\n",
       "      <th>IBM</th>\n",
       "      <th>SPY</th>\n",
       "    </tr>\n",
       "  </thead>\n",
       "  <tbody>\n",
       "    <tr>\n",
       "      <th>2010-01-04</th>\n",
       "      <td>98.142967</td>\n",
       "      <td>93.244675</td>\n",
       "    </tr>\n",
       "    <tr>\n",
       "      <th>2010-01-05</th>\n",
       "      <td>96.957375</td>\n",
       "      <td>93.491486</td>\n",
       "    </tr>\n",
       "    <tr>\n",
       "      <th>2010-01-06</th>\n",
       "      <td>96.327530</td>\n",
       "      <td>93.557304</td>\n",
       "    </tr>\n",
       "    <tr>\n",
       "      <th>2010-01-07</th>\n",
       "      <td>95.994110</td>\n",
       "      <td>93.952278</td>\n",
       "    </tr>\n",
       "    <tr>\n",
       "      <th>2010-01-08</th>\n",
       "      <td>96.957375</td>\n",
       "      <td>94.264915</td>\n",
       "    </tr>\n",
       "    <tr>\n",
       "      <th>2010-01-11</th>\n",
       "      <td>95.942223</td>\n",
       "      <td>94.396545</td>\n",
       "    </tr>\n",
       "    <tr>\n",
       "      <th>2010-01-12</th>\n",
       "      <td>96.705429</td>\n",
       "      <td>93.516182</td>\n",
       "    </tr>\n",
       "    <tr>\n",
       "      <th>2010-01-13</th>\n",
       "      <td>96.497971</td>\n",
       "      <td>94.306030</td>\n",
       "    </tr>\n",
       "    <tr>\n",
       "      <th>2010-01-14</th>\n",
       "      <td>98.039223</td>\n",
       "      <td>94.561073</td>\n",
       "    </tr>\n",
       "    <tr>\n",
       "      <th>2010-01-15</th>\n",
       "      <td>97.646492</td>\n",
       "      <td>93.499710</td>\n",
       "    </tr>\n",
       "    <tr>\n",
       "      <th>2010-01-19</th>\n",
       "      <td>99.395187</td>\n",
       "      <td>94.668053</td>\n",
       "    </tr>\n",
       "    <tr>\n",
       "      <th>2010-01-20</th>\n",
       "      <td>96.512794</td>\n",
       "      <td>93.705421</td>\n",
       "    </tr>\n",
       "    <tr>\n",
       "      <th>2010-01-21</th>\n",
       "      <td>95.586586</td>\n",
       "      <td>91.903542</td>\n",
       "    </tr>\n",
       "    <tr>\n",
       "      <th>2010-01-22</th>\n",
       "      <td>92.993134</td>\n",
       "      <td>89.854836</td>\n",
       "    </tr>\n",
       "    <tr>\n",
       "      <th>2010-01-25</th>\n",
       "      <td>93.452568</td>\n",
       "      <td>90.315590</td>\n",
       "    </tr>\n",
       "    <tr>\n",
       "      <th>2010-01-26</th>\n",
       "      <td>93.178391</td>\n",
       "      <td>89.937119</td>\n",
       "    </tr>\n",
       "    <tr>\n",
       "      <th>2010-01-27</th>\n",
       "      <td>93.608154</td>\n",
       "      <td>90.364952</td>\n",
       "    </tr>\n",
       "    <tr>\n",
       "      <th>2010-01-28</th>\n",
       "      <td>91.696426</td>\n",
       "      <td>89.328270</td>\n",
       "    </tr>\n",
       "    <tr>\n",
       "      <th>2010-01-29</th>\n",
       "      <td>90.688683</td>\n",
       "      <td>88.357376</td>\n",
       "    </tr>\n",
       "  </tbody>\n",
       "</table>\n",
       "</div>"
      ],
      "text/plain": [
       "                  IBM        SPY\n",
       "2010-01-04  98.142967  93.244675\n",
       "2010-01-05  96.957375  93.491486\n",
       "2010-01-06  96.327530  93.557304\n",
       "2010-01-07  95.994110  93.952278\n",
       "2010-01-08  96.957375  94.264915\n",
       "2010-01-11  95.942223  94.396545\n",
       "2010-01-12  96.705429  93.516182\n",
       "2010-01-13  96.497971  94.306030\n",
       "2010-01-14  98.039223  94.561073\n",
       "2010-01-15  97.646492  93.499710\n",
       "2010-01-19  99.395187  94.668053\n",
       "2010-01-20  96.512794  93.705421\n",
       "2010-01-21  95.586586  91.903542\n",
       "2010-01-22  92.993134  89.854836\n",
       "2010-01-25  93.452568  90.315590\n",
       "2010-01-26  93.178391  89.937119\n",
       "2010-01-27  93.608154  90.364952\n",
       "2010-01-28  91.696426  89.328270\n",
       "2010-01-29  90.688683  88.357376"
      ]
     },
     "execution_count": 58,
     "metadata": {},
     "output_type": "execute_result"
    }
   ],
   "source": [
    "#Slicing Between Rows And Columns\n",
    "df.loc['2010-01-01':'2010-01-31',['IBM','SPY']]"
   ]
  },
  {
   "cell_type": "code",
   "execution_count": 73,
   "metadata": {},
   "outputs": [
    {
     "data": {
      "image/png": "[encoded data removed]",
      "text/plain": [
       "<Figure size 432x288 with 1 Axes>"
      ]
     },
     "metadata": {
      "needs_background": "light"
     },
     "output_type": "display_data"
    }
   ],
   "source": [
    "#To start all the data from one single point so that we can compare easily\n",
    "df=df/df.iloc[0,:]\n",
    "ax=df.plot(title=\"Stock Prices\")\n",
    "plt.show()\n"
   ]
  },
  {
   "cell_type": "code",
   "execution_count": null,
   "metadata": {},
   "outputs": [],
   "source": []
  }
 ],
 "metadata": {
  "kernelspec": {
   "display_name": "Python 3",
   "language": "python",
   "name": "python3"
  },
  "language_info": {
   "codemirror_mode": {
    "name": "ipython",
    "version": 3
   },
   "file_extension": ".py",
   "mimetype": "text/x-python",
   "name": "python",
   "nbconvert_exporter": "python",
   "pygments_lexer": "ipython3",
   "version": "3.7.0"
  }
 },
 "nbformat": 4,
 "nbformat_minor": 2
}
